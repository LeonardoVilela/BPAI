{
 "cells": [
  {
   "cell_type": "code",
   "execution_count": null,
   "metadata": {
    "id": "3qvJREfEgkyg"
   },
   "outputs": [],
   "source": [
    "import numpy as np\n",
    "import pandas as pd\n",
    "import matplotlib.pyplot as plt\n",
    "from DadosAbertosBrasil import camara"
   ]
  },
  {
   "cell_type": "markdown",
   "metadata": {},
   "source": [
    "In: data,partido,deputado,uf,autores da lei votada, temas da lei"
   ]
  },
  {
   "cell_type": "code",
   "execution_count": 2,
   "metadata": {
    "id": "TF1_bnDAgm2N"
   },
   "outputs": [],
   "source": [
    "df_listadep = camara.lista_deputados(formato= 'dataframe')"
   ]
  },
  {
   "cell_type": "code",
   "execution_count": 7,
   "metadata": {},
   "outputs": [
    {
     "data": {
      "text/html": [
       "<div>\n",
       "<style scoped>\n",
       "    .dataframe tbody tr th:only-of-type {\n",
       "        vertical-align: middle;\n",
       "    }\n",
       "\n",
       "    .dataframe tbody tr th {\n",
       "        vertical-align: top;\n",
       "    }\n",
       "\n",
       "    .dataframe thead th {\n",
       "        text-align: right;\n",
       "    }\n",
       "</style>\n",
       "<table border=\"1\" class=\"dataframe\">\n",
       "  <thead>\n",
       "    <tr style=\"text-align: right;\">\n",
       "      <th></th>\n",
       "      <th>codigo</th>\n",
       "      <th>nome</th>\n",
       "      <th>partido</th>\n",
       "      <th>uf</th>\n",
       "      <th>legislatura</th>\n",
       "      <th>foto</th>\n",
       "    </tr>\n",
       "  </thead>\n",
       "  <tbody>\n",
       "    <tr>\n",
       "      <th>0</th>\n",
       "      <td>204521</td>\n",
       "      <td>Abou Anni</td>\n",
       "      <td>UNIÃO</td>\n",
       "      <td>SP</td>\n",
       "      <td>56</td>\n",
       "      <td>https://www.camara.leg.br/internet/deputado/ba...</td>\n",
       "    </tr>\n",
       "    <tr>\n",
       "      <th>1</th>\n",
       "      <td>204379</td>\n",
       "      <td>Acácio Favacho</td>\n",
       "      <td>MDB</td>\n",
       "      <td>AP</td>\n",
       "      <td>56</td>\n",
       "      <td>https://www.camara.leg.br/internet/deputado/ba...</td>\n",
       "    </tr>\n",
       "    <tr>\n",
       "      <th>2</th>\n",
       "      <td>204560</td>\n",
       "      <td>Adolfo Viana</td>\n",
       "      <td>PSDB</td>\n",
       "      <td>BA</td>\n",
       "      <td>56</td>\n",
       "      <td>https://www.camara.leg.br/internet/deputado/ba...</td>\n",
       "    </tr>\n",
       "    <tr>\n",
       "      <th>3</th>\n",
       "      <td>204528</td>\n",
       "      <td>Adriana Ventura</td>\n",
       "      <td>NOVO</td>\n",
       "      <td>SP</td>\n",
       "      <td>56</td>\n",
       "      <td>https://www.camara.leg.br/internet/deputado/ba...</td>\n",
       "    </tr>\n",
       "    <tr>\n",
       "      <th>4</th>\n",
       "      <td>121948</td>\n",
       "      <td>Adriano do Baldy</td>\n",
       "      <td>PP</td>\n",
       "      <td>GO</td>\n",
       "      <td>56</td>\n",
       "      <td>https://www.camara.leg.br/internet/deputado/ba...</td>\n",
       "    </tr>\n",
       "  </tbody>\n",
       "</table>\n",
       "</div>"
      ],
      "text/plain": [
       "   codigo              nome partido  uf  legislatura  \\\n",
       "0  204521         Abou Anni   UNIÃO  SP           56   \n",
       "1  204379    Acácio Favacho     MDB  AP           56   \n",
       "2  204560      Adolfo Viana    PSDB  BA           56   \n",
       "3  204528   Adriana Ventura    NOVO  SP           56   \n",
       "4  121948  Adriano do Baldy      PP  GO           56   \n",
       "\n",
       "                                                foto  \n",
       "0  https://www.camara.leg.br/internet/deputado/ba...  \n",
       "1  https://www.camara.leg.br/internet/deputado/ba...  \n",
       "2  https://www.camara.leg.br/internet/deputado/ba...  \n",
       "3  https://www.camara.leg.br/internet/deputado/ba...  \n",
       "4  https://www.camara.leg.br/internet/deputado/ba...  "
      ]
     },
     "execution_count": 7,
     "metadata": {},
     "output_type": "execute_result"
    }
   ],
   "source": [
    "df_listadep = df_listadep.drop(['uri','partido_uri','email'],axis = 1)\n",
    "df_listadep.head()"
   ]
  },
  {
   "cell_type": "code",
   "execution_count": null,
   "metadata": {},
   "outputs": [],
   "source": [
    "#pd.period_range(start='2017-01-01', end='2018-01-01', freq='M')\n",
    "dates_list = []\n",
    "for i in range(2019,2023):\n",
    "    for j in range(2,13):\n",
    "        dates_list.append(f'{i}-{j:02d}-05')"
   ]
  },
  {
   "cell_type": "code",
   "execution_count": null,
   "metadata": {},
   "outputs": [],
   "source": [
    "#queremos votacoes que a descrição contem sim nao e total\n",
    "for i in range(0,48):\n",
    "    if i == 0:\n",
    "        df_votacoes = camara.lista_votacoes(formato= 'dataframe',inicio = dates_list[0],fim = dates_list[1]).sample(n=3)\n",
    "    else:\n",
    "        df_preconcat = camara.lista_votacoes(formato= 'dataframe',inicio = dates_list[i-1],fim = dates_list[i]).sample(n=3,replace=True)\n",
    "        data = [df_votacoes,df_preconcat]\n",
    "        df_votacoes = pd.concat(data, ignore_index=True, sort=False)"
   ]
  },
  {
   "cell_type": "code",
   "execution_count": 95,
   "metadata": {
    "scrolled": true
   },
   "outputs": [],
   "source": [
    "df_votacoes_filt = df_votacoes.dropna(subset=['data']).reset_index()"
   ]
  },
  {
   "cell_type": "code",
   "execution_count": 98,
   "metadata": {
    "colab": {
     "base_uri": "https://localhost:8080/"
    },
    "id": "vcNde-F-AI2o",
    "outputId": "6757d1b5-82aa-4ab9-e47a-daffb44cd07a"
   },
   "outputs": [
    {
     "data": {
      "text/html": [
       "<div>\n",
       "<style scoped>\n",
       "    .dataframe tbody tr th:only-of-type {\n",
       "        vertical-align: middle;\n",
       "    }\n",
       "\n",
       "    .dataframe tbody tr th {\n",
       "        vertical-align: top;\n",
       "    }\n",
       "\n",
       "    .dataframe thead th {\n",
       "        text-align: right;\n",
       "    }\n",
       "</style>\n",
       "<table border=\"1\" class=\"dataframe\">\n",
       "  <thead>\n",
       "    <tr style=\"text-align: right;\">\n",
       "      <th></th>\n",
       "      <th>index</th>\n",
       "      <th>codigo</th>\n",
       "      <th>uri</th>\n",
       "      <th>data</th>\n",
       "      <th>data_registro</th>\n",
       "      <th>orgao</th>\n",
       "      <th>orgao_uri</th>\n",
       "      <th>evento_uri</th>\n",
       "      <th>proposicao</th>\n",
       "      <th>proposicao_uri</th>\n",
       "      <th>descricao</th>\n",
       "      <th>aprovacao</th>\n",
       "    </tr>\n",
       "  </thead>\n",
       "  <tbody>\n",
       "    <tr>\n",
       "      <th>0</th>\n",
       "      <td>0</td>\n",
       "      <td>2191604-26</td>\n",
       "      <td>https://dadosabertos.camara.leg.br/api/v2/vota...</td>\n",
       "      <td>2019-02-20</td>\n",
       "      <td>2020-11-17 14:13:11</td>\n",
       "      <td>MESA</td>\n",
       "      <td>https://dadosabertos.camara.leg.br/api/v2/orga...</td>\n",
       "      <td>https://dadosabertos.camara.leg.br/api/v2/even...</td>\n",
       "      <td>None</td>\n",
       "      <td>None</td>\n",
       "      <td>Aprovado o Parecer.</td>\n",
       "      <td>1.0</td>\n",
       "    </tr>\n",
       "    <tr>\n",
       "      <th>1</th>\n",
       "      <td>1</td>\n",
       "      <td>2183957-36</td>\n",
       "      <td>https://dadosabertos.camara.leg.br/api/v2/vota...</td>\n",
       "      <td>2019-02-13</td>\n",
       "      <td>2019-02-13 19:43:06</td>\n",
       "      <td>PLEN</td>\n",
       "      <td>https://dadosabertos.camara.leg.br/api/v2/orga...</td>\n",
       "      <td>https://dadosabertos.camara.leg.br/api/v2/even...</td>\n",
       "      <td>None</td>\n",
       "      <td>None</td>\n",
       "      <td>Aprovado, em apreciação preliminar, o Parecer ...</td>\n",
       "      <td>1.0</td>\n",
       "    </tr>\n",
       "    <tr>\n",
       "      <th>2</th>\n",
       "      <td>2</td>\n",
       "      <td>2183943-50</td>\n",
       "      <td>https://dadosabertos.camara.leg.br/api/v2/vota...</td>\n",
       "      <td>2019-02-13</td>\n",
       "      <td>2019-02-13 17:19:07</td>\n",
       "      <td>PLEN</td>\n",
       "      <td>https://dadosabertos.camara.leg.br/api/v2/orga...</td>\n",
       "      <td>https://dadosabertos.camara.leg.br/api/v2/even...</td>\n",
       "      <td>None</td>\n",
       "      <td>None</td>\n",
       "      <td>Aprovado, em apreciação preliminar, o Parecer ...</td>\n",
       "      <td>1.0</td>\n",
       "    </tr>\n",
       "    <tr>\n",
       "      <th>3</th>\n",
       "      <td>3</td>\n",
       "      <td>2192046-26</td>\n",
       "      <td>https://dadosabertos.camara.leg.br/api/v2/vota...</td>\n",
       "      <td>2019-02-20</td>\n",
       "      <td>2020-11-17 14:13:18</td>\n",
       "      <td>MESA</td>\n",
       "      <td>https://dadosabertos.camara.leg.br/api/v2/orga...</td>\n",
       "      <td>https://dadosabertos.camara.leg.br/api/v2/even...</td>\n",
       "      <td>None</td>\n",
       "      <td>None</td>\n",
       "      <td>Aprovado o Parecer.</td>\n",
       "      <td>1.0</td>\n",
       "    </tr>\n",
       "    <tr>\n",
       "      <th>4</th>\n",
       "      <td>4</td>\n",
       "      <td>2191554-26</td>\n",
       "      <td>https://dadosabertos.camara.leg.br/api/v2/vota...</td>\n",
       "      <td>2019-02-20</td>\n",
       "      <td>2020-11-17 14:13:11</td>\n",
       "      <td>MESA</td>\n",
       "      <td>https://dadosabertos.camara.leg.br/api/v2/orga...</td>\n",
       "      <td>https://dadosabertos.camara.leg.br/api/v2/even...</td>\n",
       "      <td>None</td>\n",
       "      <td>None</td>\n",
       "      <td>Aprovado o Parecer.</td>\n",
       "      <td>1.0</td>\n",
       "    </tr>\n",
       "    <tr>\n",
       "      <th>...</th>\n",
       "      <td>...</td>\n",
       "      <td>...</td>\n",
       "      <td>...</td>\n",
       "      <td>...</td>\n",
       "      <td>...</td>\n",
       "      <td>...</td>\n",
       "      <td>...</td>\n",
       "      <td>...</td>\n",
       "      <td>...</td>\n",
       "      <td>...</td>\n",
       "      <td>...</td>\n",
       "      <td>...</td>\n",
       "    </tr>\n",
       "    <tr>\n",
       "      <th>115</th>\n",
       "      <td>124</td>\n",
       "      <td>2326278-40</td>\n",
       "      <td>https://dadosabertos.camara.leg.br/api/v2/vota...</td>\n",
       "      <td>2022-10-05</td>\n",
       "      <td>2022-10-05 16:15:56</td>\n",
       "      <td>PLEN</td>\n",
       "      <td>https://dadosabertos.camara.leg.br/api/v2/orga...</td>\n",
       "      <td>https://dadosabertos.camara.leg.br/api/v2/even...</td>\n",
       "      <td>None</td>\n",
       "      <td>None</td>\n",
       "      <td>Aprovada a Redação Final assinada pelo Relator...</td>\n",
       "      <td>1.0</td>\n",
       "    </tr>\n",
       "    <tr>\n",
       "      <th>116</th>\n",
       "      <td>125</td>\n",
       "      <td>2326278-34</td>\n",
       "      <td>https://dadosabertos.camara.leg.br/api/v2/vota...</td>\n",
       "      <td>2022-10-05</td>\n",
       "      <td>2022-10-05 16:00:51</td>\n",
       "      <td>PLEN</td>\n",
       "      <td>https://dadosabertos.camara.leg.br/api/v2/orga...</td>\n",
       "      <td>https://dadosabertos.camara.leg.br/api/v2/even...</td>\n",
       "      <td>None</td>\n",
       "      <td>None</td>\n",
       "      <td>Aprovada a Medida Provisória nº 1.120 de 2022,...</td>\n",
       "      <td>1.0</td>\n",
       "    </tr>\n",
       "    <tr>\n",
       "      <th>117</th>\n",
       "      <td>126</td>\n",
       "      <td>2331581-2</td>\n",
       "      <td>https://dadosabertos.camara.leg.br/api/v2/vota...</td>\n",
       "      <td>2022-10-19</td>\n",
       "      <td>2022-10-19 10:28:58</td>\n",
       "      <td>CFFC</td>\n",
       "      <td>https://dadosabertos.camara.leg.br/api/v2/orga...</td>\n",
       "      <td>https://dadosabertos.camara.leg.br/api/v2/even...</td>\n",
       "      <td>REQ 94/2022 CFFC</td>\n",
       "      <td>https://dadosabertos.camara.leg.br/api/v2/prop...</td>\n",
       "      <td>Aprovado.</td>\n",
       "      <td>1.0</td>\n",
       "    </tr>\n",
       "    <tr>\n",
       "      <th>118</th>\n",
       "      <td>127</td>\n",
       "      <td>2317466-28</td>\n",
       "      <td>https://dadosabertos.camara.leg.br/api/v2/vota...</td>\n",
       "      <td>2022-10-19</td>\n",
       "      <td>2022-10-19 11:07:55</td>\n",
       "      <td>CVT</td>\n",
       "      <td>https://dadosabertos.camara.leg.br/api/v2/orga...</td>\n",
       "      <td>https://dadosabertos.camara.leg.br/api/v2/even...</td>\n",
       "      <td>None</td>\n",
       "      <td>None</td>\n",
       "      <td>Aprovado o Parecer.</td>\n",
       "      <td>1.0</td>\n",
       "    </tr>\n",
       "    <tr>\n",
       "      <th>119</th>\n",
       "      <td>128</td>\n",
       "      <td>2329266-34</td>\n",
       "      <td>https://dadosabertos.camara.leg.br/api/v2/vota...</td>\n",
       "      <td>2022-10-18</td>\n",
       "      <td>2022-10-18 18:46:54</td>\n",
       "      <td>PLEN</td>\n",
       "      <td>https://dadosabertos.camara.leg.br/api/v2/orga...</td>\n",
       "      <td>https://dadosabertos.camara.leg.br/api/v2/even...</td>\n",
       "      <td>None</td>\n",
       "      <td>None</td>\n",
       "      <td>Aprovada a Redação Final assinada pela Relator...</td>\n",
       "      <td>1.0</td>\n",
       "    </tr>\n",
       "  </tbody>\n",
       "</table>\n",
       "<p>120 rows × 12 columns</p>\n",
       "</div>"
      ],
      "text/plain": [
       "     index      codigo                                                uri  \\\n",
       "0        0  2191604-26  https://dadosabertos.camara.leg.br/api/v2/vota...   \n",
       "1        1  2183957-36  https://dadosabertos.camara.leg.br/api/v2/vota...   \n",
       "2        2  2183943-50  https://dadosabertos.camara.leg.br/api/v2/vota...   \n",
       "3        3  2192046-26  https://dadosabertos.camara.leg.br/api/v2/vota...   \n",
       "4        4  2191554-26  https://dadosabertos.camara.leg.br/api/v2/vota...   \n",
       "..     ...         ...                                                ...   \n",
       "115    124  2326278-40  https://dadosabertos.camara.leg.br/api/v2/vota...   \n",
       "116    125  2326278-34  https://dadosabertos.camara.leg.br/api/v2/vota...   \n",
       "117    126   2331581-2  https://dadosabertos.camara.leg.br/api/v2/vota...   \n",
       "118    127  2317466-28  https://dadosabertos.camara.leg.br/api/v2/vota...   \n",
       "119    128  2329266-34  https://dadosabertos.camara.leg.br/api/v2/vota...   \n",
       "\n",
       "          data       data_registro orgao  \\\n",
       "0   2019-02-20 2020-11-17 14:13:11  MESA   \n",
       "1   2019-02-13 2019-02-13 19:43:06  PLEN   \n",
       "2   2019-02-13 2019-02-13 17:19:07  PLEN   \n",
       "3   2019-02-20 2020-11-17 14:13:18  MESA   \n",
       "4   2019-02-20 2020-11-17 14:13:11  MESA   \n",
       "..         ...                 ...   ...   \n",
       "115 2022-10-05 2022-10-05 16:15:56  PLEN   \n",
       "116 2022-10-05 2022-10-05 16:00:51  PLEN   \n",
       "117 2022-10-19 2022-10-19 10:28:58  CFFC   \n",
       "118 2022-10-19 2022-10-19 11:07:55   CVT   \n",
       "119 2022-10-18 2022-10-18 18:46:54  PLEN   \n",
       "\n",
       "                                             orgao_uri  \\\n",
       "0    https://dadosabertos.camara.leg.br/api/v2/orga...   \n",
       "1    https://dadosabertos.camara.leg.br/api/v2/orga...   \n",
       "2    https://dadosabertos.camara.leg.br/api/v2/orga...   \n",
       "3    https://dadosabertos.camara.leg.br/api/v2/orga...   \n",
       "4    https://dadosabertos.camara.leg.br/api/v2/orga...   \n",
       "..                                                 ...   \n",
       "115  https://dadosabertos.camara.leg.br/api/v2/orga...   \n",
       "116  https://dadosabertos.camara.leg.br/api/v2/orga...   \n",
       "117  https://dadosabertos.camara.leg.br/api/v2/orga...   \n",
       "118  https://dadosabertos.camara.leg.br/api/v2/orga...   \n",
       "119  https://dadosabertos.camara.leg.br/api/v2/orga...   \n",
       "\n",
       "                                            evento_uri        proposicao  \\\n",
       "0    https://dadosabertos.camara.leg.br/api/v2/even...              None   \n",
       "1    https://dadosabertos.camara.leg.br/api/v2/even...              None   \n",
       "2    https://dadosabertos.camara.leg.br/api/v2/even...              None   \n",
       "3    https://dadosabertos.camara.leg.br/api/v2/even...              None   \n",
       "4    https://dadosabertos.camara.leg.br/api/v2/even...              None   \n",
       "..                                                 ...               ...   \n",
       "115  https://dadosabertos.camara.leg.br/api/v2/even...              None   \n",
       "116  https://dadosabertos.camara.leg.br/api/v2/even...              None   \n",
       "117  https://dadosabertos.camara.leg.br/api/v2/even...  REQ 94/2022 CFFC   \n",
       "118  https://dadosabertos.camara.leg.br/api/v2/even...              None   \n",
       "119  https://dadosabertos.camara.leg.br/api/v2/even...              None   \n",
       "\n",
       "                                        proposicao_uri  \\\n",
       "0                                                 None   \n",
       "1                                                 None   \n",
       "2                                                 None   \n",
       "3                                                 None   \n",
       "4                                                 None   \n",
       "..                                                 ...   \n",
       "115                                               None   \n",
       "116                                               None   \n",
       "117  https://dadosabertos.camara.leg.br/api/v2/prop...   \n",
       "118                                               None   \n",
       "119                                               None   \n",
       "\n",
       "                                             descricao  aprovacao  \n",
       "0                                  Aprovado o Parecer.        1.0  \n",
       "1    Aprovado, em apreciação preliminar, o Parecer ...        1.0  \n",
       "2    Aprovado, em apreciação preliminar, o Parecer ...        1.0  \n",
       "3                                  Aprovado o Parecer.        1.0  \n",
       "4                                  Aprovado o Parecer.        1.0  \n",
       "..                                                 ...        ...  \n",
       "115  Aprovada a Redação Final assinada pelo Relator...        1.0  \n",
       "116  Aprovada a Medida Provisória nº 1.120 de 2022,...        1.0  \n",
       "117                                          Aprovado.        1.0  \n",
       "118                                Aprovado o Parecer.        1.0  \n",
       "119  Aprovada a Redação Final assinada pela Relator...        1.0  \n",
       "\n",
       "[120 rows x 12 columns]"
      ]
     },
     "execution_count": 98,
     "metadata": {},
     "output_type": "execute_result"
    }
   ],
   "source": [
    "df_votacoes_filt"
   ]
  },
  {
   "cell_type": "code",
   "execution_count": 106,
   "metadata": {},
   "outputs": [
    {
     "data": {
      "text/plain": [
       "0    Nilto Tatto\n",
       "Name: nome, dtype: object"
      ]
     },
     "execution_count": 106,
     "metadata": {},
     "output_type": "execute_result"
    }
   ],
   "source": [
    "camara.Proposicao(cod = '2191604').autores(formato = 'dataframe')['nome']"
   ]
  },
  {
   "cell_type": "code",
   "execution_count": 143,
   "metadata": {},
   "outputs": [
    {
     "data": {
      "text/plain": [
       "'Rejeitado o Requerimento. Sim: 11; não: 256; total: 267.'"
      ]
     },
     "execution_count": 143,
     "metadata": {},
     "output_type": "execute_result"
    }
   ],
   "source": [
    "camara.Votacao(cod = '2265603-43').descricao"
   ]
  },
  {
   "cell_type": "code",
   "execution_count": null,
   "metadata": {
    "id": "_IGY2gme_L3a"
   },
   "outputs": [],
   "source": [
    "def busca_codigo(nome):\n",
    "    return df.loc[df['nome'] == nome.title()]['codigo'].iloc[0]"
   ]
  },
  {
   "cell_type": "code",
   "execution_count": null,
   "metadata": {
    "colab": {
     "base_uri": "https://localhost:8080/",
     "height": 165
    },
    "id": "nNZLKJNwFlc3",
    "outputId": "86255d15-079b-4527-ac17-139f039ab7f4"
   },
   "outputs": [
    {
     "ename": "NameError",
     "evalue": "ignored",
     "output_type": "error",
     "traceback": [
      "\u001b[0;31m---------------------------------------------------------------------------\u001b[0m",
      "\u001b[0;31mNameError\u001b[0m                                 Traceback (most recent call last)",
      "\u001b[0;32m<ipython-input-7-1b4478edf719>\u001b[0m in \u001b[0;36m<module>\u001b[0;34m\u001b[0m\n\u001b[0;32m----> 1\u001b[0;31m \u001b[0mcamara\u001b[0m\u001b[0;34m.\u001b[0m\u001b[0mVotacao\u001b[0m\u001b[0;34m(\u001b[0m\u001b[0ma\u001b[0m\u001b[0;34m)\u001b[0m\u001b[0;34m.\u001b[0m\u001b[0morientacoes\u001b[0m\u001b[0;34m(\u001b[0m\u001b[0mformato\u001b[0m\u001b[0;34m=\u001b[0m \u001b[0;34m'dataframe'\u001b[0m\u001b[0;34m)\u001b[0m\u001b[0;34m\u001b[0m\u001b[0;34m\u001b[0m\u001b[0m\n\u001b[0m",
      "\u001b[0;31mNameError\u001b[0m: name 'a' is not defined"
     ]
    }
   ],
   "source": [
    "camara.Votacao(a).orientacoes(formato= 'dataframe')"
   ]
  },
  {
   "cell_type": "code",
   "execution_count": null,
   "metadata": {
    "id": "zbHDyYBzJpXN"
   },
   "outputs": [],
   "source": [
    "proposicao = 2265603\n",
    "prop = camara.Proposicao(cod=proposicao)\n",
    "# votacao = camara.Votacao(str(prop.votacoes()['codigo'].iloc[-1]))\n",
    "# votacao.orientacoes(formato= 'dataframe')\n",
    "prop.ementa"
   ]
  },
  {
   "cell_type": "code",
   "execution_count": null,
   "metadata": {
    "id": "_McfnVg1MORJ"
   },
   "outputs": [],
   "source": [
    "int('2019-08-01'.split('-')[1])"
   ]
  },
  {
   "cell_type": "code",
   "execution_count": null,
   "metadata": {
    "id": "yxe9j0V4L27n"
   },
   "outputs": [],
   "source": [
    "def forma_data(data_anterior,passo):\n",
    "    datas = data_anterior.split('-')\n",
    "    for i in range(0,passo):\n",
    "    if int(datas[1]) >= 12:\n",
    "        datas[0] = int(datas[0])+1\n",
    "        datas[1] = 1\n",
    "    else:\n",
    "        datas[1] = int(datas[1])+1\n",
    "    if datas[1] < 10:\n",
    "        nova_data = str(datas[0])+'-'+'0'+str(datas[1])+'-'+datas[2]\n",
    "    else:\n",
    "        nova_data = str(datas[0])+'-'+str(datas[1])+'-'+datas[2]\n",
    "    return nova_data\n",
    "    "
   ]
  },
  {
   "cell_type": "code",
   "execution_count": null,
   "metadata": {
    "colab": {
     "base_uri": "https://localhost:8080/",
     "height": 345
    },
    "id": "Qs_DG6FoERI2",
    "outputId": "0e068217-2f1e-4b00-993f-46c00567dfae"
   },
   "outputs": [
    {
     "ename": "IndexError",
     "evalue": "ignored",
     "output_type": "error",
     "traceback": [
      "\u001b[0;31m---------------------------------------------------------------------------\u001b[0m",
      "\u001b[0;31mIndexError\u001b[0m                                Traceback (most recent call last)",
      "\u001b[0;32m<ipython-input-9-a28771694225>\u001b[0m in \u001b[0;36m<module>\u001b[0;34m\u001b[0m\n\u001b[1;32m      4\u001b[0m   \u001b[0mvoto\u001b[0m \u001b[0;34m=\u001b[0m \u001b[0mvotacao\u001b[0m\u001b[0;34m.\u001b[0m\u001b[0mloc\u001b[0m\u001b[0;34m[\u001b[0m\u001b[0mvotacao\u001b[0m\u001b[0;34m[\u001b[0m\u001b[0;34m'deputado_nome'\u001b[0m\u001b[0;34m]\u001b[0m \u001b[0;34m==\u001b[0m \u001b[0mnome\u001b[0m\u001b[0;34m.\u001b[0m\u001b[0mtitle\u001b[0m\u001b[0;34m(\u001b[0m\u001b[0;34m)\u001b[0m\u001b[0;34m]\u001b[0m\u001b[0;34m[\u001b[0m\u001b[0;34m'voto'\u001b[0m\u001b[0;34m]\u001b[0m\u001b[0;34m.\u001b[0m\u001b[0miloc\u001b[0m\u001b[0;34m[\u001b[0m\u001b[0;36m0\u001b[0m\u001b[0;34m]\u001b[0m\u001b[0;34m\u001b[0m\u001b[0;34m\u001b[0m\u001b[0m\n\u001b[1;32m      5\u001b[0m   \u001b[0mprint\u001b[0m\u001b[0;34m(\u001b[0m\u001b[0;34mf\"A/O Deputada/o {nome.title()} votou {voto} para a proposição {proposicao} com ementa: {prop.ementa}\"\u001b[0m\u001b[0;34m)\u001b[0m\u001b[0;34m\u001b[0m\u001b[0;34m\u001b[0m\u001b[0m\n\u001b[0;32m----> 6\u001b[0;31m \u001b[0mvoto_proposicao\u001b[0m\u001b[0;34m(\u001b[0m\u001b[0;34m\"kim kataguiri\"\u001b[0m\u001b[0;34m,\u001b[0m\u001b[0;36m2265603\u001b[0m\u001b[0;34m)\u001b[0m\u001b[0;34m\u001b[0m\u001b[0;34m\u001b[0m\u001b[0m\n\u001b[0m",
      "\u001b[0;32m<ipython-input-9-a28771694225>\u001b[0m in \u001b[0;36mvoto_proposicao\u001b[0;34m(nome, proposicao)\u001b[0m\n\u001b[1;32m      2\u001b[0m   \u001b[0mprop\u001b[0m \u001b[0;34m=\u001b[0m \u001b[0mcamara\u001b[0m\u001b[0;34m.\u001b[0m\u001b[0mProposicao\u001b[0m\u001b[0;34m(\u001b[0m\u001b[0mcod\u001b[0m\u001b[0;34m=\u001b[0m\u001b[0mproposicao\u001b[0m\u001b[0;34m)\u001b[0m\u001b[0;34m\u001b[0m\u001b[0;34m\u001b[0m\u001b[0m\n\u001b[1;32m      3\u001b[0m   \u001b[0mvotacao\u001b[0m \u001b[0;34m=\u001b[0m \u001b[0mcamara\u001b[0m\u001b[0;34m.\u001b[0m\u001b[0mVotacao\u001b[0m\u001b[0;34m(\u001b[0m\u001b[0mstr\u001b[0m\u001b[0;34m(\u001b[0m\u001b[0mprop\u001b[0m\u001b[0;34m.\u001b[0m\u001b[0mvotacoes\u001b[0m\u001b[0;34m(\u001b[0m\u001b[0;34m)\u001b[0m\u001b[0;34m[\u001b[0m\u001b[0;34m'codigo'\u001b[0m\u001b[0;34m]\u001b[0m\u001b[0;34m.\u001b[0m\u001b[0miloc\u001b[0m\u001b[0;34m[\u001b[0m\u001b[0;34m-\u001b[0m\u001b[0;36m1\u001b[0m\u001b[0;34m]\u001b[0m\u001b[0;34m)\u001b[0m\u001b[0;34m)\u001b[0m\u001b[0;34m.\u001b[0m\u001b[0mvotos\u001b[0m\u001b[0;34m(\u001b[0m\u001b[0mformato\u001b[0m\u001b[0;34m=\u001b[0m \u001b[0;34m'dataframe'\u001b[0m\u001b[0;34m)\u001b[0m\u001b[0;34m\u001b[0m\u001b[0;34m\u001b[0m\u001b[0m\n\u001b[0;32m----> 4\u001b[0;31m   \u001b[0mvoto\u001b[0m \u001b[0;34m=\u001b[0m \u001b[0mvotacao\u001b[0m\u001b[0;34m.\u001b[0m\u001b[0mloc\u001b[0m\u001b[0;34m[\u001b[0m\u001b[0mvotacao\u001b[0m\u001b[0;34m[\u001b[0m\u001b[0;34m'deputado_nome'\u001b[0m\u001b[0;34m]\u001b[0m \u001b[0;34m==\u001b[0m \u001b[0mnome\u001b[0m\u001b[0;34m.\u001b[0m\u001b[0mtitle\u001b[0m\u001b[0;34m(\u001b[0m\u001b[0;34m)\u001b[0m\u001b[0;34m]\u001b[0m\u001b[0;34m[\u001b[0m\u001b[0;34m'voto'\u001b[0m\u001b[0;34m]\u001b[0m\u001b[0;34m.\u001b[0m\u001b[0miloc\u001b[0m\u001b[0;34m[\u001b[0m\u001b[0;36m0\u001b[0m\u001b[0;34m]\u001b[0m\u001b[0;34m\u001b[0m\u001b[0;34m\u001b[0m\u001b[0m\n\u001b[0m\u001b[1;32m      5\u001b[0m   \u001b[0mprint\u001b[0m\u001b[0;34m(\u001b[0m\u001b[0;34mf\"A/O Deputada/o {nome.title()} votou {voto} para a proposição {proposicao} com ementa: {prop.ementa}\"\u001b[0m\u001b[0;34m)\u001b[0m\u001b[0;34m\u001b[0m\u001b[0;34m\u001b[0m\u001b[0m\n\u001b[1;32m      6\u001b[0m \u001b[0mvoto_proposicao\u001b[0m\u001b[0;34m(\u001b[0m\u001b[0;34m\"kim kataguiri\"\u001b[0m\u001b[0;34m,\u001b[0m\u001b[0;36m2265603\u001b[0m\u001b[0;34m)\u001b[0m\u001b[0;34m\u001b[0m\u001b[0;34m\u001b[0m\u001b[0m\n",
      "\u001b[0;32m/usr/local/lib/python3.7/dist-packages/pandas/core/indexing.py\u001b[0m in \u001b[0;36m__getitem__\u001b[0;34m(self, key)\u001b[0m\n\u001b[1;32m    929\u001b[0m \u001b[0;34m\u001b[0m\u001b[0m\n\u001b[1;32m    930\u001b[0m             \u001b[0mmaybe_callable\u001b[0m \u001b[0;34m=\u001b[0m \u001b[0mcom\u001b[0m\u001b[0;34m.\u001b[0m\u001b[0mapply_if_callable\u001b[0m\u001b[0;34m(\u001b[0m\u001b[0mkey\u001b[0m\u001b[0;34m,\u001b[0m \u001b[0mself\u001b[0m\u001b[0;34m.\u001b[0m\u001b[0mobj\u001b[0m\u001b[0;34m)\u001b[0m\u001b[0;34m\u001b[0m\u001b[0;34m\u001b[0m\u001b[0m\n\u001b[0;32m--> 931\u001b[0;31m             \u001b[0;32mreturn\u001b[0m \u001b[0mself\u001b[0m\u001b[0;34m.\u001b[0m\u001b[0m_getitem_axis\u001b[0m\u001b[0;34m(\u001b[0m\u001b[0mmaybe_callable\u001b[0m\u001b[0;34m,\u001b[0m \u001b[0maxis\u001b[0m\u001b[0;34m=\u001b[0m\u001b[0maxis\u001b[0m\u001b[0;34m)\u001b[0m\u001b[0;34m\u001b[0m\u001b[0;34m\u001b[0m\u001b[0m\n\u001b[0m\u001b[1;32m    932\u001b[0m \u001b[0;34m\u001b[0m\u001b[0m\n\u001b[1;32m    933\u001b[0m     \u001b[0;32mdef\u001b[0m \u001b[0m_is_scalar_access\u001b[0m\u001b[0;34m(\u001b[0m\u001b[0mself\u001b[0m\u001b[0;34m,\u001b[0m \u001b[0mkey\u001b[0m\u001b[0;34m:\u001b[0m \u001b[0mtuple\u001b[0m\u001b[0;34m)\u001b[0m\u001b[0;34m:\u001b[0m\u001b[0;34m\u001b[0m\u001b[0;34m\u001b[0m\u001b[0m\n",
      "\u001b[0;32m/usr/local/lib/python3.7/dist-packages/pandas/core/indexing.py\u001b[0m in \u001b[0;36m_getitem_axis\u001b[0;34m(self, key, axis)\u001b[0m\n\u001b[1;32m   1564\u001b[0m \u001b[0;34m\u001b[0m\u001b[0m\n\u001b[1;32m   1565\u001b[0m             \u001b[0;31m# validate the location\u001b[0m\u001b[0;34m\u001b[0m\u001b[0;34m\u001b[0m\u001b[0;34m\u001b[0m\u001b[0m\n\u001b[0;32m-> 1566\u001b[0;31m             \u001b[0mself\u001b[0m\u001b[0;34m.\u001b[0m\u001b[0m_validate_integer\u001b[0m\u001b[0;34m(\u001b[0m\u001b[0mkey\u001b[0m\u001b[0;34m,\u001b[0m \u001b[0maxis\u001b[0m\u001b[0;34m)\u001b[0m\u001b[0;34m\u001b[0m\u001b[0;34m\u001b[0m\u001b[0m\n\u001b[0m\u001b[1;32m   1567\u001b[0m \u001b[0;34m\u001b[0m\u001b[0m\n\u001b[1;32m   1568\u001b[0m             \u001b[0;32mreturn\u001b[0m \u001b[0mself\u001b[0m\u001b[0;34m.\u001b[0m\u001b[0mobj\u001b[0m\u001b[0;34m.\u001b[0m\u001b[0m_ixs\u001b[0m\u001b[0;34m(\u001b[0m\u001b[0mkey\u001b[0m\u001b[0;34m,\u001b[0m \u001b[0maxis\u001b[0m\u001b[0;34m=\u001b[0m\u001b[0maxis\u001b[0m\u001b[0;34m)\u001b[0m\u001b[0;34m\u001b[0m\u001b[0;34m\u001b[0m\u001b[0m\n",
      "\u001b[0;32m/usr/local/lib/python3.7/dist-packages/pandas/core/indexing.py\u001b[0m in \u001b[0;36m_validate_integer\u001b[0;34m(self, key, axis)\u001b[0m\n\u001b[1;32m   1498\u001b[0m         \u001b[0mlen_axis\u001b[0m \u001b[0;34m=\u001b[0m \u001b[0mlen\u001b[0m\u001b[0;34m(\u001b[0m\u001b[0mself\u001b[0m\u001b[0;34m.\u001b[0m\u001b[0mobj\u001b[0m\u001b[0;34m.\u001b[0m\u001b[0m_get_axis\u001b[0m\u001b[0;34m(\u001b[0m\u001b[0maxis\u001b[0m\u001b[0;34m)\u001b[0m\u001b[0;34m)\u001b[0m\u001b[0;34m\u001b[0m\u001b[0;34m\u001b[0m\u001b[0m\n\u001b[1;32m   1499\u001b[0m         \u001b[0;32mif\u001b[0m \u001b[0mkey\u001b[0m \u001b[0;34m>=\u001b[0m \u001b[0mlen_axis\u001b[0m \u001b[0;32mor\u001b[0m \u001b[0mkey\u001b[0m \u001b[0;34m<\u001b[0m \u001b[0;34m-\u001b[0m\u001b[0mlen_axis\u001b[0m\u001b[0;34m:\u001b[0m\u001b[0;34m\u001b[0m\u001b[0;34m\u001b[0m\u001b[0m\n\u001b[0;32m-> 1500\u001b[0;31m             \u001b[0;32mraise\u001b[0m \u001b[0mIndexError\u001b[0m\u001b[0;34m(\u001b[0m\u001b[0;34m\"single positional indexer is out-of-bounds\"\u001b[0m\u001b[0;34m)\u001b[0m\u001b[0;34m\u001b[0m\u001b[0;34m\u001b[0m\u001b[0m\n\u001b[0m\u001b[1;32m   1501\u001b[0m \u001b[0;34m\u001b[0m\u001b[0m\n\u001b[1;32m   1502\u001b[0m     \u001b[0;31m# -------------------------------------------------------------------\u001b[0m\u001b[0;34m\u001b[0m\u001b[0;34m\u001b[0m\u001b[0;34m\u001b[0m\u001b[0m\n",
      "\u001b[0;31mIndexError\u001b[0m: single positional indexer is out-of-bounds"
     ]
    }
   ],
   "source": [
    "def voto_proposicao(nome,proposicao):\n",
    "    prop = camara.Proposicao(cod=proposicao)\n",
    "    votacao = camara.Votacao(str(prop.votacoes()['codigo'].iloc[-1])).votos(formato= 'dataframe')\n",
    "    voto = votacao.loc[votacao['deputado_nome'] == nome.title()]['voto'].iloc[0]\n",
    "    print(f\"A/O Deputada/o {nome.title()} votou {voto} para a proposição {proposicao} com ementa: {prop.ementa}\")\n",
    "voto_proposicao(\"kim kataguiri\",2265603)"
   ]
  },
  {
   "cell_type": "code",
   "execution_count": null,
   "metadata": {
    "id": "oUSXkT-eDjAP"
   },
   "outputs": [],
   "source": [
    "def votos_gov_tempo(nome,data_inicial,periodo):\n",
    "  votacoes = []\n",
    "  contador_voto_governo = 0\n",
    "  lista_contador = []\n",
    "  contador_votacoes = 0\n",
    "  data_anterior = data_inicial\n",
    "  for i in range(0,periodo):\n",
    "    nova_data = forma_data(data_anterior,1)\n",
    "    # print(data_anterior,nova_data)\n",
    "    if 'codigo' in camara.lista_votacoes(formato= 'dataframe',inicio = data_anterior,fim = nova_data).columns:\n",
    "      votacoes = votacoes + (list(camara.lista_votacoes(formato= 'dataframe',inicio = data_anterior,fim = nova_data)['codigo'].loc[:]))\n",
    "    data_anterior = nova_data\n",
    "  for votacao in votacoes:\n",
    "    votacao_analisada = camara.Votacao(votacao)\n",
    "    votacao_votos = votacao_analisada.votos(formato= 'dataframe')\n",
    "    orientacao_votos = votacao_analisada.orientacoes(formato= 'dataframe')\n",
    "    if 'deputado_nome' in votacao_votos.columns:\n",
    "      if nome.title() in list(votacao_votos['deputado_nome']) and 'Governo' in list(orientacao_votos['bloco']):\n",
    "        # print(votacao)\n",
    "        contador_votacoes += 1\n",
    "        voto = votacao_votos.loc[votacao_votos['deputado_nome'] == nome.title()]['voto'].iloc[0]\n",
    "        voto_governo = orientacao_votos.loc[orientacao_votos['bloco'] == 'Governo']['orientacao'].iloc[0]\n",
    "        if voto == voto_governo:\n",
    "          contador_voto_governo += 1\n",
    "          lista_contador.append(contador_voto_governo)\n",
    "        else:\n",
    "          lista_contador.append(contador_voto_governo)\n",
    "  # plt.plot(lista_contador,range(0,contador_votacoes))\n",
    "  # plt.title(f\"Evolução dos votos a favor do Governo durante o periodo avaliado de {periodo} meses\")\n",
    "  # plt.show()\n",
    "  print(f\"A/O Deputada/o {nome.title()} votou {contador_voto_governo} vezes (ou {round(contador_voto_governo/contador_votacoes,3)*100}% das vezes) de acordo com a indicação do executivo.\")"
   ]
  },
  {
   "cell_type": "code",
   "execution_count": null,
   "metadata": {
    "colab": {
     "base_uri": "https://localhost:8080/",
     "height": 727
    },
    "id": "0v3DwULHC36C",
    "outputId": "d949014d-535c-415e-a535-3b4189915ea2"
   },
   "outputs": [
    {
     "ename": "ConnectionError",
     "evalue": "ignored",
     "output_type": "error",
     "traceback": [
      "\u001b[0;31m---------------------------------------------------------------------------\u001b[0m",
      "\u001b[0;31mgaierror\u001b[0m                                  Traceback (most recent call last)",
      "\u001b[0;32m/usr/local/lib/python3.7/dist-packages/urllib3/connection.py\u001b[0m in \u001b[0;36m_new_conn\u001b[0;34m(self)\u001b[0m\n\u001b[1;32m    158\u001b[0m             conn = connection.create_connection(\n\u001b[0;32m--> 159\u001b[0;31m                 (self._dns_host, self.port), self.timeout, **extra_kw)\n\u001b[0m\u001b[1;32m    160\u001b[0m \u001b[0;34m\u001b[0m\u001b[0m\n",
      "\u001b[0;32m/usr/local/lib/python3.7/dist-packages/urllib3/util/connection.py\u001b[0m in \u001b[0;36mcreate_connection\u001b[0;34m(address, timeout, source_address, socket_options)\u001b[0m\n\u001b[1;32m     56\u001b[0m \u001b[0;34m\u001b[0m\u001b[0m\n\u001b[0;32m---> 57\u001b[0;31m     \u001b[0;32mfor\u001b[0m \u001b[0mres\u001b[0m \u001b[0;32min\u001b[0m \u001b[0msocket\u001b[0m\u001b[0;34m.\u001b[0m\u001b[0mgetaddrinfo\u001b[0m\u001b[0;34m(\u001b[0m\u001b[0mhost\u001b[0m\u001b[0;34m,\u001b[0m \u001b[0mport\u001b[0m\u001b[0;34m,\u001b[0m \u001b[0mfamily\u001b[0m\u001b[0;34m,\u001b[0m \u001b[0msocket\u001b[0m\u001b[0;34m.\u001b[0m\u001b[0mSOCK_STREAM\u001b[0m\u001b[0;34m)\u001b[0m\u001b[0;34m:\u001b[0m\u001b[0;34m\u001b[0m\u001b[0;34m\u001b[0m\u001b[0m\n\u001b[0m\u001b[1;32m     58\u001b[0m         \u001b[0maf\u001b[0m\u001b[0;34m,\u001b[0m \u001b[0msocktype\u001b[0m\u001b[0;34m,\u001b[0m \u001b[0mproto\u001b[0m\u001b[0;34m,\u001b[0m \u001b[0mcanonname\u001b[0m\u001b[0;34m,\u001b[0m \u001b[0msa\u001b[0m \u001b[0;34m=\u001b[0m \u001b[0mres\u001b[0m\u001b[0;34m\u001b[0m\u001b[0;34m\u001b[0m\u001b[0m\n",
      "\u001b[0;32m/usr/lib/python3.7/socket.py\u001b[0m in \u001b[0;36mgetaddrinfo\u001b[0;34m(host, port, family, type, proto, flags)\u001b[0m\n\u001b[1;32m    751\u001b[0m     \u001b[0maddrlist\u001b[0m \u001b[0;34m=\u001b[0m \u001b[0;34m[\u001b[0m\u001b[0;34m]\u001b[0m\u001b[0;34m\u001b[0m\u001b[0;34m\u001b[0m\u001b[0m\n\u001b[0;32m--> 752\u001b[0;31m     \u001b[0;32mfor\u001b[0m \u001b[0mres\u001b[0m \u001b[0;32min\u001b[0m \u001b[0m_socket\u001b[0m\u001b[0;34m.\u001b[0m\u001b[0mgetaddrinfo\u001b[0m\u001b[0;34m(\u001b[0m\u001b[0mhost\u001b[0m\u001b[0;34m,\u001b[0m \u001b[0mport\u001b[0m\u001b[0;34m,\u001b[0m \u001b[0mfamily\u001b[0m\u001b[0;34m,\u001b[0m \u001b[0mtype\u001b[0m\u001b[0;34m,\u001b[0m \u001b[0mproto\u001b[0m\u001b[0;34m,\u001b[0m \u001b[0mflags\u001b[0m\u001b[0;34m)\u001b[0m\u001b[0;34m:\u001b[0m\u001b[0;34m\u001b[0m\u001b[0;34m\u001b[0m\u001b[0m\n\u001b[0m\u001b[1;32m    753\u001b[0m         \u001b[0maf\u001b[0m\u001b[0;34m,\u001b[0m \u001b[0msocktype\u001b[0m\u001b[0;34m,\u001b[0m \u001b[0mproto\u001b[0m\u001b[0;34m,\u001b[0m \u001b[0mcanonname\u001b[0m\u001b[0;34m,\u001b[0m \u001b[0msa\u001b[0m \u001b[0;34m=\u001b[0m \u001b[0mres\u001b[0m\u001b[0;34m\u001b[0m\u001b[0;34m\u001b[0m\u001b[0m\n",
      "\u001b[0;31mgaierror\u001b[0m: [Errno -2] Name or service not known",
      "\nDuring handling of the above exception, another exception occurred:\n",
      "\u001b[0;31mNewConnectionError\u001b[0m                        Traceback (most recent call last)",
      "\u001b[0;32m/usr/local/lib/python3.7/dist-packages/urllib3/connectionpool.py\u001b[0m in \u001b[0;36murlopen\u001b[0;34m(self, method, url, body, headers, retries, redirect, assert_same_host, timeout, pool_timeout, release_conn, chunked, body_pos, **response_kw)\u001b[0m\n\u001b[1;32m    599\u001b[0m                                                   \u001b[0mbody\u001b[0m\u001b[0;34m=\u001b[0m\u001b[0mbody\u001b[0m\u001b[0;34m,\u001b[0m \u001b[0mheaders\u001b[0m\u001b[0;34m=\u001b[0m\u001b[0mheaders\u001b[0m\u001b[0;34m,\u001b[0m\u001b[0;34m\u001b[0m\u001b[0;34m\u001b[0m\u001b[0m\n\u001b[0;32m--> 600\u001b[0;31m                                                   chunked=chunked)\n\u001b[0m\u001b[1;32m    601\u001b[0m \u001b[0;34m\u001b[0m\u001b[0m\n",
      "\u001b[0;32m/usr/local/lib/python3.7/dist-packages/urllib3/connectionpool.py\u001b[0m in \u001b[0;36m_make_request\u001b[0;34m(self, conn, method, url, timeout, chunked, **httplib_request_kw)\u001b[0m\n\u001b[1;32m    342\u001b[0m         \u001b[0;32mtry\u001b[0m\u001b[0;34m:\u001b[0m\u001b[0;34m\u001b[0m\u001b[0;34m\u001b[0m\u001b[0m\n\u001b[0;32m--> 343\u001b[0;31m             \u001b[0mself\u001b[0m\u001b[0;34m.\u001b[0m\u001b[0m_validate_conn\u001b[0m\u001b[0;34m(\u001b[0m\u001b[0mconn\u001b[0m\u001b[0;34m)\u001b[0m\u001b[0;34m\u001b[0m\u001b[0;34m\u001b[0m\u001b[0m\n\u001b[0m\u001b[1;32m    344\u001b[0m         \u001b[0;32mexcept\u001b[0m \u001b[0;34m(\u001b[0m\u001b[0mSocketTimeout\u001b[0m\u001b[0;34m,\u001b[0m \u001b[0mBaseSSLError\u001b[0m\u001b[0;34m)\u001b[0m \u001b[0;32mas\u001b[0m \u001b[0me\u001b[0m\u001b[0;34m:\u001b[0m\u001b[0;34m\u001b[0m\u001b[0;34m\u001b[0m\u001b[0m\n",
      "\u001b[0;32m/usr/local/lib/python3.7/dist-packages/urllib3/connectionpool.py\u001b[0m in \u001b[0;36m_validate_conn\u001b[0;34m(self, conn)\u001b[0m\n\u001b[1;32m    838\u001b[0m         \u001b[0;32mif\u001b[0m \u001b[0;32mnot\u001b[0m \u001b[0mgetattr\u001b[0m\u001b[0;34m(\u001b[0m\u001b[0mconn\u001b[0m\u001b[0;34m,\u001b[0m \u001b[0;34m'sock'\u001b[0m\u001b[0;34m,\u001b[0m \u001b[0;32mNone\u001b[0m\u001b[0;34m)\u001b[0m\u001b[0;34m:\u001b[0m  \u001b[0;31m# AppEngine might not have  `.sock`\u001b[0m\u001b[0;34m\u001b[0m\u001b[0;34m\u001b[0m\u001b[0m\n\u001b[0;32m--> 839\u001b[0;31m             \u001b[0mconn\u001b[0m\u001b[0;34m.\u001b[0m\u001b[0mconnect\u001b[0m\u001b[0;34m(\u001b[0m\u001b[0;34m)\u001b[0m\u001b[0;34m\u001b[0m\u001b[0;34m\u001b[0m\u001b[0m\n\u001b[0m\u001b[1;32m    840\u001b[0m \u001b[0;34m\u001b[0m\u001b[0m\n",
      "\u001b[0;32m/usr/local/lib/python3.7/dist-packages/urllib3/connection.py\u001b[0m in \u001b[0;36mconnect\u001b[0;34m(self)\u001b[0m\n\u001b[1;32m    300\u001b[0m         \u001b[0;31m# Add certificate verification\u001b[0m\u001b[0;34m\u001b[0m\u001b[0;34m\u001b[0m\u001b[0;34m\u001b[0m\u001b[0m\n\u001b[0;32m--> 301\u001b[0;31m         \u001b[0mconn\u001b[0m \u001b[0;34m=\u001b[0m \u001b[0mself\u001b[0m\u001b[0;34m.\u001b[0m\u001b[0m_new_conn\u001b[0m\u001b[0;34m(\u001b[0m\u001b[0;34m)\u001b[0m\u001b[0;34m\u001b[0m\u001b[0;34m\u001b[0m\u001b[0m\n\u001b[0m\u001b[1;32m    302\u001b[0m         \u001b[0mhostname\u001b[0m \u001b[0;34m=\u001b[0m \u001b[0mself\u001b[0m\u001b[0;34m.\u001b[0m\u001b[0mhost\u001b[0m\u001b[0;34m\u001b[0m\u001b[0;34m\u001b[0m\u001b[0m\n",
      "\u001b[0;32m/usr/local/lib/python3.7/dist-packages/urllib3/connection.py\u001b[0m in \u001b[0;36m_new_conn\u001b[0;34m(self)\u001b[0m\n\u001b[1;32m    167\u001b[0m             raise NewConnectionError(\n\u001b[0;32m--> 168\u001b[0;31m                 self, \"Failed to establish a new connection: %s\" % e)\n\u001b[0m\u001b[1;32m    169\u001b[0m \u001b[0;34m\u001b[0m\u001b[0m\n",
      "\u001b[0;31mNewConnectionError\u001b[0m: <urllib3.connection.VerifiedHTTPSConnection object at 0x7f1d18f0cf10>: Failed to establish a new connection: [Errno -2] Name or service not known",
      "\nDuring handling of the above exception, another exception occurred:\n",
      "\u001b[0;31mMaxRetryError\u001b[0m                             Traceback (most recent call last)",
      "\u001b[0;32m/usr/local/lib/python3.7/dist-packages/requests/adapters.py\u001b[0m in \u001b[0;36msend\u001b[0;34m(self, request, stream, timeout, verify, cert, proxies)\u001b[0m\n\u001b[1;32m    448\u001b[0m                     \u001b[0mretries\u001b[0m\u001b[0;34m=\u001b[0m\u001b[0mself\u001b[0m\u001b[0;34m.\u001b[0m\u001b[0mmax_retries\u001b[0m\u001b[0;34m,\u001b[0m\u001b[0;34m\u001b[0m\u001b[0;34m\u001b[0m\u001b[0m\n\u001b[0;32m--> 449\u001b[0;31m                     \u001b[0mtimeout\u001b[0m\u001b[0;34m=\u001b[0m\u001b[0mtimeout\u001b[0m\u001b[0;34m\u001b[0m\u001b[0;34m\u001b[0m\u001b[0m\n\u001b[0m\u001b[1;32m    450\u001b[0m                 )\n",
      "\u001b[0;32m/usr/local/lib/python3.7/dist-packages/urllib3/connectionpool.py\u001b[0m in \u001b[0;36murlopen\u001b[0;34m(self, method, url, body, headers, retries, redirect, assert_same_host, timeout, pool_timeout, release_conn, chunked, body_pos, **response_kw)\u001b[0m\n\u001b[1;32m    637\u001b[0m             retries = retries.increment(method, url, error=e, _pool=self,\n\u001b[0;32m--> 638\u001b[0;31m                                         _stacktrace=sys.exc_info()[2])\n\u001b[0m\u001b[1;32m    639\u001b[0m             \u001b[0mretries\u001b[0m\u001b[0;34m.\u001b[0m\u001b[0msleep\u001b[0m\u001b[0;34m(\u001b[0m\u001b[0;34m)\u001b[0m\u001b[0;34m\u001b[0m\u001b[0;34m\u001b[0m\u001b[0m\n",
      "\u001b[0;32m/usr/local/lib/python3.7/dist-packages/urllib3/util/retry.py\u001b[0m in \u001b[0;36mincrement\u001b[0;34m(self, method, url, response, error, _pool, _stacktrace)\u001b[0m\n\u001b[1;32m    398\u001b[0m         \u001b[0;32mif\u001b[0m \u001b[0mnew_retry\u001b[0m\u001b[0;34m.\u001b[0m\u001b[0mis_exhausted\u001b[0m\u001b[0;34m(\u001b[0m\u001b[0;34m)\u001b[0m\u001b[0;34m:\u001b[0m\u001b[0;34m\u001b[0m\u001b[0;34m\u001b[0m\u001b[0m\n\u001b[0;32m--> 399\u001b[0;31m             \u001b[0;32mraise\u001b[0m \u001b[0mMaxRetryError\u001b[0m\u001b[0;34m(\u001b[0m\u001b[0m_pool\u001b[0m\u001b[0;34m,\u001b[0m \u001b[0murl\u001b[0m\u001b[0;34m,\u001b[0m \u001b[0merror\u001b[0m \u001b[0;32mor\u001b[0m \u001b[0mResponseError\u001b[0m\u001b[0;34m(\u001b[0m\u001b[0mcause\u001b[0m\u001b[0;34m)\u001b[0m\u001b[0;34m)\u001b[0m\u001b[0;34m\u001b[0m\u001b[0;34m\u001b[0m\u001b[0m\n\u001b[0m\u001b[1;32m    400\u001b[0m \u001b[0;34m\u001b[0m\u001b[0m\n",
      "\u001b[0;31mMaxRetryError\u001b[0m: HTTPSConnectionPool(host='dadosabertos.camara.leg.br', port=443): Max retries exceeded with url: /api/v2/votacoes?pagina=1&ordem=desc&ordenarPor=dataHoraRegistro&dataInicio=2021-03-01&dataFim=2021-04-01 (Caused by NewConnectionError('<urllib3.connection.VerifiedHTTPSConnection object at 0x7f1d18f0cf10>: Failed to establish a new connection: [Errno -2] Name or service not known'))",
      "\nDuring handling of the above exception, another exception occurred:\n",
      "\u001b[0;31mConnectionError\u001b[0m                           Traceback (most recent call last)",
      "\u001b[0;32m<ipython-input-13-7eca36135f97>\u001b[0m in \u001b[0;36m<module>\u001b[0;34m\u001b[0m\n\u001b[0;32m----> 1\u001b[0;31m \u001b[0mvotos_gov_tempo\u001b[0m\u001b[0;34m(\u001b[0m\u001b[0;34m\"Tabata Amaral\"\u001b[0m\u001b[0;34m,\u001b[0m\u001b[0;34m'2021-03-01'\u001b[0m\u001b[0;34m,\u001b[0m\u001b[0;36m2\u001b[0m\u001b[0;34m)\u001b[0m\u001b[0;34m\u001b[0m\u001b[0;34m\u001b[0m\u001b[0m\n\u001b[0m",
      "\u001b[0;32m<ipython-input-10-81bc8a2db5ee>\u001b[0m in \u001b[0;36mvotos_gov_tempo\u001b[0;34m(nome, data_inicial, periodo)\u001b[0m\n\u001b[1;32m      9\u001b[0m     \u001b[0;31m# print(data_anterior,nova_data)\u001b[0m\u001b[0;34m\u001b[0m\u001b[0;34m\u001b[0m\u001b[0;34m\u001b[0m\u001b[0m\n\u001b[1;32m     10\u001b[0m     \u001b[0;32mif\u001b[0m \u001b[0;34m'codigo'\u001b[0m \u001b[0;32min\u001b[0m \u001b[0mcamara\u001b[0m\u001b[0;34m.\u001b[0m\u001b[0mlista_votacoes\u001b[0m\u001b[0;34m(\u001b[0m\u001b[0mformato\u001b[0m\u001b[0;34m=\u001b[0m \u001b[0;34m'dataframe'\u001b[0m\u001b[0;34m,\u001b[0m\u001b[0minicio\u001b[0m \u001b[0;34m=\u001b[0m \u001b[0mdata_anterior\u001b[0m\u001b[0;34m,\u001b[0m\u001b[0mfim\u001b[0m \u001b[0;34m=\u001b[0m \u001b[0mnova_data\u001b[0m\u001b[0;34m)\u001b[0m\u001b[0;34m.\u001b[0m\u001b[0mcolumns\u001b[0m\u001b[0;34m:\u001b[0m\u001b[0;34m\u001b[0m\u001b[0;34m\u001b[0m\u001b[0m\n\u001b[0;32m---> 11\u001b[0;31m       \u001b[0mvotacoes\u001b[0m \u001b[0;34m=\u001b[0m \u001b[0mvotacoes\u001b[0m \u001b[0;34m+\u001b[0m \u001b[0;34m(\u001b[0m\u001b[0mlist\u001b[0m\u001b[0;34m(\u001b[0m\u001b[0mcamara\u001b[0m\u001b[0;34m.\u001b[0m\u001b[0mlista_votacoes\u001b[0m\u001b[0;34m(\u001b[0m\u001b[0mformato\u001b[0m\u001b[0;34m=\u001b[0m \u001b[0;34m'dataframe'\u001b[0m\u001b[0;34m,\u001b[0m\u001b[0minicio\u001b[0m \u001b[0;34m=\u001b[0m \u001b[0mdata_anterior\u001b[0m\u001b[0;34m,\u001b[0m\u001b[0mfim\u001b[0m \u001b[0;34m=\u001b[0m \u001b[0mnova_data\u001b[0m\u001b[0;34m)\u001b[0m\u001b[0;34m[\u001b[0m\u001b[0;34m'codigo'\u001b[0m\u001b[0;34m]\u001b[0m\u001b[0;34m.\u001b[0m\u001b[0mloc\u001b[0m\u001b[0;34m[\u001b[0m\u001b[0;34m:\u001b[0m\u001b[0;34m]\u001b[0m\u001b[0;34m)\u001b[0m\u001b[0;34m)\u001b[0m\u001b[0;34m\u001b[0m\u001b[0;34m\u001b[0m\u001b[0m\n\u001b[0m\u001b[1;32m     12\u001b[0m     \u001b[0mdata_anterior\u001b[0m \u001b[0;34m=\u001b[0m \u001b[0mnova_data\u001b[0m\u001b[0;34m\u001b[0m\u001b[0;34m\u001b[0m\u001b[0m\n\u001b[1;32m     13\u001b[0m   \u001b[0;32mfor\u001b[0m \u001b[0mvotacao\u001b[0m \u001b[0;32min\u001b[0m \u001b[0mvotacoes\u001b[0m\u001b[0;34m:\u001b[0m\u001b[0;34m\u001b[0m\u001b[0;34m\u001b[0m\u001b[0m\n",
      "\u001b[0;32m/usr/local/lib/python3.7/dist-packages/DadosAbertosBrasil/camara.py\u001b[0m in \u001b[0;36mlista_votacoes\u001b[0;34m(proposicao, evento, orgao, inicio, fim, pagina, itens, asc, ordenar_por, url, index, formato)\u001b[0m\n\u001b[1;32m   3812\u001b[0m         \u001b[0murl\u001b[0m \u001b[0;34m=\u001b[0m \u001b[0murl\u001b[0m\u001b[0;34m,\u001b[0m\u001b[0;34m\u001b[0m\u001b[0;34m\u001b[0m\u001b[0m\n\u001b[1;32m   3813\u001b[0m         \u001b[0mindex\u001b[0m \u001b[0;34m=\u001b[0m \u001b[0mindex\u001b[0m\u001b[0;34m,\u001b[0m\u001b[0;34m\u001b[0m\u001b[0;34m\u001b[0m\u001b[0m\n\u001b[0;32m-> 3814\u001b[0;31m         \u001b[0mformato\u001b[0m \u001b[0;34m=\u001b[0m \u001b[0mformato\u001b[0m\u001b[0;34m\u001b[0m\u001b[0;34m\u001b[0m\u001b[0m\n\u001b[0m\u001b[1;32m   3815\u001b[0m     )\n\u001b[1;32m   3816\u001b[0m \u001b[0;34m\u001b[0m\u001b[0m\n",
      "\u001b[0;32m/usr/local/lib/python3.7/dist-packages/DadosAbertosBrasil/_utils/get_data.py\u001b[0m in \u001b[0;36mget_and_format\u001b[0;34m(api, path, params, unpack_keys, cols_to_rename, cols_to_int, cols_to_date, cols_to_bool, true_value, false_value, url_cols, url, index_col, index, formato)\u001b[0m\n\u001b[1;32m    137\u001b[0m         \u001b[0mendpoint\u001b[0m \u001b[0;34m=\u001b[0m \u001b[0mENDPOINTS\u001b[0m\u001b[0;34m[\u001b[0m\u001b[0mapi\u001b[0m\u001b[0;34m]\u001b[0m\u001b[0;34m,\u001b[0m\u001b[0;34m\u001b[0m\u001b[0;34m\u001b[0m\u001b[0m\n\u001b[1;32m    138\u001b[0m         \u001b[0mpath\u001b[0m \u001b[0;34m=\u001b[0m \u001b[0mpath\u001b[0m\u001b[0;34m,\u001b[0m\u001b[0;34m\u001b[0m\u001b[0;34m\u001b[0m\u001b[0m\n\u001b[0;32m--> 139\u001b[0;31m         \u001b[0mparams\u001b[0m \u001b[0;34m=\u001b[0m \u001b[0mparams\u001b[0m\u001b[0;34m\u001b[0m\u001b[0;34m\u001b[0m\u001b[0m\n\u001b[0m\u001b[1;32m    140\u001b[0m     )\n\u001b[1;32m    141\u001b[0m \u001b[0;34m\u001b[0m\u001b[0m\n",
      "\u001b[0;32m/usr/local/lib/python3.7/dist-packages/DadosAbertosBrasil/_utils/get_data.py\u001b[0m in \u001b[0;36mget_data\u001b[0;34m(endpoint, path, params)\u001b[0m\n\u001b[1;32m     52\u001b[0m         \u001b[0murl\u001b[0m \u001b[0;34m=\u001b[0m \u001b[0mendpoint\u001b[0m \u001b[0;34m+\u001b[0m \u001b[0mpath\u001b[0m\u001b[0;34m,\u001b[0m\u001b[0;34m\u001b[0m\u001b[0;34m\u001b[0m\u001b[0m\n\u001b[1;32m     53\u001b[0m         \u001b[0mheaders\u001b[0m \u001b[0;34m=\u001b[0m \u001b[0;34m{\u001b[0m\u001b[0;34m'Accept'\u001b[0m\u001b[0;34m:\u001b[0m\u001b[0;34m'application/json'\u001b[0m\u001b[0;34m}\u001b[0m\u001b[0;34m,\u001b[0m\u001b[0;34m\u001b[0m\u001b[0;34m\u001b[0m\u001b[0m\n\u001b[0;32m---> 54\u001b[0;31m         \u001b[0mparams\u001b[0m \u001b[0;34m=\u001b[0m \u001b[0mparams\u001b[0m\u001b[0;34m\u001b[0m\u001b[0;34m\u001b[0m\u001b[0m\n\u001b[0m\u001b[1;32m     55\u001b[0m     ).json()\n\u001b[1;32m     56\u001b[0m \u001b[0;34m\u001b[0m\u001b[0m\n",
      "\u001b[0;32m/usr/local/lib/python3.7/dist-packages/requests/api.py\u001b[0m in \u001b[0;36mget\u001b[0;34m(url, params, **kwargs)\u001b[0m\n\u001b[1;32m     74\u001b[0m \u001b[0;34m\u001b[0m\u001b[0m\n\u001b[1;32m     75\u001b[0m     \u001b[0mkwargs\u001b[0m\u001b[0;34m.\u001b[0m\u001b[0msetdefault\u001b[0m\u001b[0;34m(\u001b[0m\u001b[0;34m'allow_redirects'\u001b[0m\u001b[0;34m,\u001b[0m \u001b[0;32mTrue\u001b[0m\u001b[0;34m)\u001b[0m\u001b[0;34m\u001b[0m\u001b[0;34m\u001b[0m\u001b[0m\n\u001b[0;32m---> 76\u001b[0;31m     \u001b[0;32mreturn\u001b[0m \u001b[0mrequest\u001b[0m\u001b[0;34m(\u001b[0m\u001b[0;34m'get'\u001b[0m\u001b[0;34m,\u001b[0m \u001b[0murl\u001b[0m\u001b[0;34m,\u001b[0m \u001b[0mparams\u001b[0m\u001b[0;34m=\u001b[0m\u001b[0mparams\u001b[0m\u001b[0;34m,\u001b[0m \u001b[0;34m**\u001b[0m\u001b[0mkwargs\u001b[0m\u001b[0;34m)\u001b[0m\u001b[0;34m\u001b[0m\u001b[0;34m\u001b[0m\u001b[0m\n\u001b[0m\u001b[1;32m     77\u001b[0m \u001b[0;34m\u001b[0m\u001b[0m\n\u001b[1;32m     78\u001b[0m \u001b[0;34m\u001b[0m\u001b[0m\n",
      "\u001b[0;32m/usr/local/lib/python3.7/dist-packages/requests/api.py\u001b[0m in \u001b[0;36mrequest\u001b[0;34m(method, url, **kwargs)\u001b[0m\n\u001b[1;32m     59\u001b[0m     \u001b[0;31m# cases, and look like a memory leak in others.\u001b[0m\u001b[0;34m\u001b[0m\u001b[0;34m\u001b[0m\u001b[0;34m\u001b[0m\u001b[0m\n\u001b[1;32m     60\u001b[0m     \u001b[0;32mwith\u001b[0m \u001b[0msessions\u001b[0m\u001b[0;34m.\u001b[0m\u001b[0mSession\u001b[0m\u001b[0;34m(\u001b[0m\u001b[0;34m)\u001b[0m \u001b[0;32mas\u001b[0m \u001b[0msession\u001b[0m\u001b[0;34m:\u001b[0m\u001b[0;34m\u001b[0m\u001b[0;34m\u001b[0m\u001b[0m\n\u001b[0;32m---> 61\u001b[0;31m         \u001b[0;32mreturn\u001b[0m \u001b[0msession\u001b[0m\u001b[0;34m.\u001b[0m\u001b[0mrequest\u001b[0m\u001b[0;34m(\u001b[0m\u001b[0mmethod\u001b[0m\u001b[0;34m=\u001b[0m\u001b[0mmethod\u001b[0m\u001b[0;34m,\u001b[0m \u001b[0murl\u001b[0m\u001b[0;34m=\u001b[0m\u001b[0murl\u001b[0m\u001b[0;34m,\u001b[0m \u001b[0;34m**\u001b[0m\u001b[0mkwargs\u001b[0m\u001b[0;34m)\u001b[0m\u001b[0;34m\u001b[0m\u001b[0;34m\u001b[0m\u001b[0m\n\u001b[0m\u001b[1;32m     62\u001b[0m \u001b[0;34m\u001b[0m\u001b[0m\n\u001b[1;32m     63\u001b[0m \u001b[0;34m\u001b[0m\u001b[0m\n",
      "\u001b[0;32m/usr/local/lib/python3.7/dist-packages/requests/sessions.py\u001b[0m in \u001b[0;36mrequest\u001b[0;34m(self, method, url, params, data, headers, cookies, files, auth, timeout, allow_redirects, proxies, hooks, stream, verify, cert, json)\u001b[0m\n\u001b[1;32m    528\u001b[0m         }\n\u001b[1;32m    529\u001b[0m         \u001b[0msend_kwargs\u001b[0m\u001b[0;34m.\u001b[0m\u001b[0mupdate\u001b[0m\u001b[0;34m(\u001b[0m\u001b[0msettings\u001b[0m\u001b[0;34m)\u001b[0m\u001b[0;34m\u001b[0m\u001b[0;34m\u001b[0m\u001b[0m\n\u001b[0;32m--> 530\u001b[0;31m         \u001b[0mresp\u001b[0m \u001b[0;34m=\u001b[0m \u001b[0mself\u001b[0m\u001b[0;34m.\u001b[0m\u001b[0msend\u001b[0m\u001b[0;34m(\u001b[0m\u001b[0mprep\u001b[0m\u001b[0;34m,\u001b[0m \u001b[0;34m**\u001b[0m\u001b[0msend_kwargs\u001b[0m\u001b[0;34m)\u001b[0m\u001b[0;34m\u001b[0m\u001b[0;34m\u001b[0m\u001b[0m\n\u001b[0m\u001b[1;32m    531\u001b[0m \u001b[0;34m\u001b[0m\u001b[0m\n\u001b[1;32m    532\u001b[0m         \u001b[0;32mreturn\u001b[0m \u001b[0mresp\u001b[0m\u001b[0;34m\u001b[0m\u001b[0;34m\u001b[0m\u001b[0m\n",
      "\u001b[0;32m/usr/local/lib/python3.7/dist-packages/requests/sessions.py\u001b[0m in \u001b[0;36msend\u001b[0;34m(self, request, **kwargs)\u001b[0m\n\u001b[1;32m    641\u001b[0m \u001b[0;34m\u001b[0m\u001b[0m\n\u001b[1;32m    642\u001b[0m         \u001b[0;31m# Send the request\u001b[0m\u001b[0;34m\u001b[0m\u001b[0;34m\u001b[0m\u001b[0;34m\u001b[0m\u001b[0m\n\u001b[0;32m--> 643\u001b[0;31m         \u001b[0mr\u001b[0m \u001b[0;34m=\u001b[0m \u001b[0madapter\u001b[0m\u001b[0;34m.\u001b[0m\u001b[0msend\u001b[0m\u001b[0;34m(\u001b[0m\u001b[0mrequest\u001b[0m\u001b[0;34m,\u001b[0m \u001b[0;34m**\u001b[0m\u001b[0mkwargs\u001b[0m\u001b[0;34m)\u001b[0m\u001b[0;34m\u001b[0m\u001b[0;34m\u001b[0m\u001b[0m\n\u001b[0m\u001b[1;32m    644\u001b[0m \u001b[0;34m\u001b[0m\u001b[0m\n\u001b[1;32m    645\u001b[0m         \u001b[0;31m# Total elapsed time of the request (approximately)\u001b[0m\u001b[0;34m\u001b[0m\u001b[0;34m\u001b[0m\u001b[0;34m\u001b[0m\u001b[0m\n",
      "\u001b[0;32m/usr/local/lib/python3.7/dist-packages/requests/adapters.py\u001b[0m in \u001b[0;36msend\u001b[0;34m(self, request, stream, timeout, verify, cert, proxies)\u001b[0m\n\u001b[1;32m    514\u001b[0m                 \u001b[0;32mraise\u001b[0m \u001b[0mSSLError\u001b[0m\u001b[0;34m(\u001b[0m\u001b[0me\u001b[0m\u001b[0;34m,\u001b[0m \u001b[0mrequest\u001b[0m\u001b[0;34m=\u001b[0m\u001b[0mrequest\u001b[0m\u001b[0;34m)\u001b[0m\u001b[0;34m\u001b[0m\u001b[0;34m\u001b[0m\u001b[0m\n\u001b[1;32m    515\u001b[0m \u001b[0;34m\u001b[0m\u001b[0m\n\u001b[0;32m--> 516\u001b[0;31m             \u001b[0;32mraise\u001b[0m \u001b[0mConnectionError\u001b[0m\u001b[0;34m(\u001b[0m\u001b[0me\u001b[0m\u001b[0;34m,\u001b[0m \u001b[0mrequest\u001b[0m\u001b[0;34m=\u001b[0m\u001b[0mrequest\u001b[0m\u001b[0;34m)\u001b[0m\u001b[0;34m\u001b[0m\u001b[0;34m\u001b[0m\u001b[0m\n\u001b[0m\u001b[1;32m    517\u001b[0m \u001b[0;34m\u001b[0m\u001b[0m\n\u001b[1;32m    518\u001b[0m         \u001b[0;32mexcept\u001b[0m \u001b[0mClosedPoolError\u001b[0m \u001b[0;32mas\u001b[0m \u001b[0me\u001b[0m\u001b[0;34m:\u001b[0m\u001b[0;34m\u001b[0m\u001b[0;34m\u001b[0m\u001b[0m\n",
      "\u001b[0;31mConnectionError\u001b[0m: HTTPSConnectionPool(host='dadosabertos.camara.leg.br', port=443): Max retries exceeded with url: /api/v2/votacoes?pagina=1&ordem=desc&ordenarPor=dataHoraRegistro&dataInicio=2021-03-01&dataFim=2021-04-01 (Caused by NewConnectionError('<urllib3.connection.VerifiedHTTPSConnection object at 0x7f1d18f0cf10>: Failed to establish a new connection: [Errno -2] Name or service not known'))"
     ]
    }
   ],
   "source": [
    "votos_gov_tempo(\"Tabata Amaral\",'2021-03-01',2)"
   ]
  },
  {
   "cell_type": "code",
   "execution_count": null,
   "metadata": {
    "id": "rJVPNcVkgvev"
   },
   "outputs": [],
   "source": [
    "  prop = camara.Proposicao(cod=2265603)\n",
    "prop.votacoes()['codigo'].iloc[-1]"
   ]
  },
  {
   "cell_type": "code",
   "execution_count": null,
   "metadata": {
    "id": "9ZrpQCyKg9T4"
   },
   "outputs": [],
   "source": []
  }
 ],
 "metadata": {
  "colab": {
   "provenance": []
  },
  "kernelspec": {
   "display_name": "Python 3",
   "language": "python",
   "name": "python3"
  },
  "language_info": {
   "codemirror_mode": {
    "name": "ipython",
    "version": 3
   },
   "file_extension": ".py",
   "mimetype": "text/x-python",
   "name": "python",
   "nbconvert_exporter": "python",
   "pygments_lexer": "ipython3",
   "version": "3.7.6"
  },
  "vscode": {
   "interpreter": {
    "hash": "675968baea14d0d0f2334b80e574e4b2fbdfb08a75d02704ed14b805f8570ad0"
   }
  }
 },
 "nbformat": 4,
 "nbformat_minor": 1
}
